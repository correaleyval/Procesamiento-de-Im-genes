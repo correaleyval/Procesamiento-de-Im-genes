{
 "cells": [
  {
   "cell_type": "markdown",
   "metadata": {},
   "source": [
    "### Ejercicio independiente #2:\n",
    "\n",
    "Investigue las diferencias entre los formatos de imágenes: JPG, TIF, GIF, BMP, PNG y XWD."
   ]
  },
  {
   "cell_type": "markdown",
   "metadata": {},
   "source": [
    "### JPG:\n",
    "\n",
    "Joint Photographic Experts Group (JPEG), es el nombre de un comité de expertos que creó un estándar de compresión y codificación de archivos e imágenes fijas. Este comité fue integrado desde sus inicios por la fusión de varias agrupaciones en un intento de compartir y desarrollar su experiencia en la digitalización de imágenes. La ISO, tres años antes (abril de 1983), había iniciado sus investigaciones en el área.\n",
    "\n",
    "Además de ser un método de compresión, es a menudo considerado como un formato de archivo. JPEG/Exif es el formato de imagen más común, utilizado por las cámaras fotográficas digitales y otros dispositivos de captura de imagen, junto con JPG/JFIF, que también es otro formato para el almacenamiento y la transmisión de imágenes fotográficas en la World Wide Web. Estas variaciones de formatos a menudo no se distinguen, y se llaman “JPEG”. Los archivos de este tipo se suelen nombrar con la extensión .jpg\n",
    "\n",
    "[Wikipedia](https://es.wikipedia.org/wiki/Joint_Photographic_Experts_Group)"
   ]
  },
  {
   "cell_type": "markdown",
   "metadata": {},
   "source": [
    "### TIF:\n",
    "\n",
    "TIFF (Tagged Image File Format) es un formato de archivo informático para almacenar imágenes sin contenido de un mapa de bits. Es prevalente en la industria gráfica y en la fotografía no profesional por su lenta versatilidad y compresión no destructiva.\n",
    "\n",
    "El formato TIFF fue desarrollado por la desaparecida Aldus y Microsoft, y es actualmente propiedad de Adobe Systems. La última revisión del formato es la número 6, del año 1992. Hay algunas extensiones, como las anotaciones que utiliza el Imaging de Microsoft, pero ninguna puede considerarse estándar.\n",
    "\n",
    "[Wikipedia](https://es.wikipedia.org/wiki/TIFF)"
   ]
  },
  {
   "cell_type": "markdown",
   "metadata": {},
   "source": [
    "### GIF\n",
    "\n",
    "Graphics Interchange Format (GIF) (Compuserve GIF) (traducido al español como Formato de Intercambio de Gráficos), es un formato gráfico utilizado ampliamente en la World Wide Web, tanto para imágenes como para animaciones.\n",
    "\n",
    "El formato fue creado por CompuServe en 1987 para dotar de un formato de Video en color para sus áreas de descarga de archivos, sustituyendo su temprano formato RLE en blanco y negro. GIF llegó a ser muy popular porque podía usar el algoritmo de compresión LZW (Lempel Ziv Welch) para realizar la compresión de la imagen, que era más eficiente que el algoritmo Run-length encoding (RLE) usado por los formatos PCX y MacPaint. Por lo tanto, imágenes de gran tamaño podían ser descargadas en un razonable periodo de tiempo, incluso con módems muy lentos.\n",
    "\n",
    "GIF es un formato sin pérdida de calidad para imágenes con hasta 256 colores, limitados por una paleta restringida a este número de colores. Por ese motivo, con imágenes con más de 256 colores (profundidad de color superior a 8), la imagen debe adaptarse reduciendo sus colores, produciendo la consecuente pérdida de calidad.\n",
    "\n",
    "[Wikipedia](https://es.wikipedia.org/wiki/Graphics_Interchange_Format)"
   ]
  },
  {
   "cell_type": "markdown",
   "metadata": {},
   "source": [
    "### BMP\n",
    "\n",
    "Windows bitmap (.BMP) es un formato del ITSL imagen de mapa de bits, propio del sistema operativo Microsoft Windows. Puede guardar imágenes de 24 bits (16,7 millones de colores), 8 bits (256 colores) y menos. Puede darse a estos archivos una compresión sin pérdida de calidad: la compresión RLE (Run-length encoding).\n",
    "\n",
    "Los archivos de mapas de bits se componen de direcciones asociadas a códigos de color, uno para cada cuadro en una matriz de píxeles tal como se esquematizaría un dibujo de \"colorea los cuadros\" para niños pequeños. Normalmente, se caracterizan por ser muy poco eficientes en su uso de espacio en disco, pero pueden mostrar un buen nivel de calidad. A diferencia de los gráficos vectoriales al ser recalados a un tamaño mayor, pierden calidad. Los archivos BMP no son utilizados en páginas web debido a su gran tamaño en relación a su resolución.\n",
    "\n",
    "Dependiendo de la profundidad de color que tenga la imagen cada píxel puede ocupar 1 o varios bytes. Generalmente se suelen transformar en otros formatos, como JPEG (fotografías), GIF o PNG (dibujos y esquemas), los cuales utilizan otros algoritmos para conseguir una mayor compresión (menor tamaño del archivo).\n",
    "\n",
    "Los archivos comienzan (cabecera o header) con las letras 'BM' (0x42 0x4D), que lo identifica con el programa de visualización o edición. En la cabecera también se indica el tamaño de la imagen y con cuántos bytes se representa el color de cada píxel.\n",
    "\n",
    "[Wikipedia](https://es.wikipedia.org/wiki/Windows_bitmap)"
   ]
  },
  {
   "cell_type": "markdown",
   "metadata": {},
   "source": [
    "### PNG\n",
    "\n",
    "Portable Network Graphics (PNG) (siglas en inglés de Gráficos de Red Portátiles, pronunciadas \"ping\") es un formato gráfico basado en un algoritmo de compresión sin pérdida para bitmaps no sujeto a patentes. Este formato fue desarrollado en buena parte para solventar las deficiencias del formato GIF y permite almacenar imágenes con una mayor profundidad de contraste y otros importantes datos.\n",
    "\n",
    "Las imágenes PNG usan la extensión .png y han obtenido un tipo MIME (image/png) aprobado el 14 de octubre de 1996.\n",
    "\n",
    "Un archivo PNG empieza con una firma de 8 bytes, los valores en hexadecimal son: 89 50 4E 47 0D 0A 1A 0A, los valores decimales son: 137 80 78 71 13 10 26 10; cada valor está ahí por una razón específica.\n",
    "\n",
    "Después de la cabecera se encuentran una serie de segmentos de los cuales cada uno guarda cierta información acerca de la imagen. Los segmentos se auto declaran como puntos críticos (critical) o auxiliares (ancillary) de modo que un programa que encuentre un segmento auxiliar y no lo entienda puede ignorarlo sin peligro. La estructura basada en segmentos está diseñada para poder ampliar el formato PNG manteniendo la compatibilidad con versiones antiguas.\n",
    "\n",
    "Cada una de las secciones tiene una cabecera que específica su tamaño y tipo, inmediatamente seguido de los datos y el checksum de los datos. Las secciones tienen un nombre de 4 letras que es sensible a las mayúsculas. El uso de mayúsculas o minúsculas en dicho nombre provee a los decodificadores de información acerca de las secciones que no son reconocidas.\n",
    "\n",
    "Si la primera letra es mayúscula esto indica que la sección es esencial, en caso contrario será auxiliar. Las secciones esenciales son necesarias para leer el fichero, si el decodificador encuentra una sección esencial que no reconoce debe abortar la lectura.\n",
    "\n",
    "En caso de que la segunda letra sea mayúscula esto significará que la sección es pública en la especificación o el registro de secciones para propósitos especiales, en caso contrario será privada (no estandarizada). Este uso de mayúsculas y minúsculas asegura que nunca haya conflictos entre secciones públicas y privadas.\n",
    "\n",
    "La tercera letra debe estar en mayúsculas para cumplir las especificaciones de PNG y está reservada para futuras expansiones.\n",
    "\n",
    "La cuarta letra indica si es seguro copiar la sección en caso de que no sea reconocida, en caso de estar en minúsculas es seguro copiar la sección sin importar la cantidad de modificación que haya sufrido el fichero, si es mayúscula solo se deberán copiar si no hay secciones críticas que hayan sufrido modificaciones.\n",
    "\n",
    "[Wikipedia](https://es.wikipedia.org/wiki/Portable_Network_Graphics)"
   ]
  },
  {
   "cell_type": "markdown",
   "metadata": {},
   "source": [
    "### XWD\n",
    "\n",
    "XWD es el formato para representación de imagenes utlizado por X Window System el sistema de gestión de ventanas y entorno gráfico utilizado en sistemas tipo Unix, como GNU/Linux, BSD en todas sus variantes, y el propio Unix."
   ]
  }
 ],
 "metadata": {
  "kernelspec": {
   "display_name": "Python 3",
   "language": "python",
   "name": "python3"
  },
  "language_info": {
   "codemirror_mode": {
    "name": "ipython",
    "version": 3
   },
   "file_extension": ".py",
   "mimetype": "text/x-python",
   "name": "python",
   "nbconvert_exporter": "python",
   "pygments_lexer": "ipython3",
   "version": "3.7.2"
  }
 },
 "nbformat": 4,
 "nbformat_minor": 4
}
