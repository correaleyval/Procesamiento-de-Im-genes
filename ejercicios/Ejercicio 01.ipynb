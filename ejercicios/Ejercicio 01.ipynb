{
 "cells": [
  {
   "cell_type": "markdown",
   "metadata": {},
   "source": [
    "#### Ejercicio independiente #1:\n",
    "\n",
    "##### Investigue otros modelos de color. Considere primeramente los modelos de color siguientes: <b>YCbCr</b>, <b>HSV</b> y <b>HSL</b>"
   ]
  },
  {
   "cell_type": "markdown",
   "metadata": {},
   "source": [
    "### YCbCr:\n",
    "\n",
    "Es un modelo de color utilizado en sistemas de video y fotografía digital."
   ]
  },
  {
   "cell_type": "markdown",
   "metadata": {},
   "source": [
    "![](../images/YCbCr.gif)"
   ]
  },
  {
   "cell_type": "markdown",
   "metadata": {},
   "source": [
    "\"Y y Y' representan la componente de luma y las señales CB y CR son los componentes de crominancia diferencia de azul y diferencia de rojo, respectivamente. Y' se diferencia de Y en que es la señal de luma codificada de manera no lineal basada en las señales primarias RGB con corrección gamma.\""
   ]
  },
  {
   "cell_type": "markdown",
   "metadata": {},
   "source": [
    "YCbCr no es un espacio de color absoluto, sino una forma de codificar información RGB. El color que se muestra depende de la combinación de colores primario RGB usados para mostrar la señal. Por lo tanto, un valor expresado como YCbCr es predecible solo si se usa la cromaticidad de los colores del estándar RGB."
   ]
  },
  {
   "cell_type": "markdown",
   "metadata": {},
   "source": [
    "Las imágenes se forman en un tubo de rayos catódicos mediante señales que representan a los colores primarios de la luz, azul, rojo y verde, pero estas señales no son eficientes como representación para el almacenamiento y la transmisión directas, ya que tienen una gran cantidad de redundancia.\n",
    "\n",
    "Las señales YCBCR y Y'CBCR son una aproximación práctica para el procesamiento del color y para la percepción uniforme, en las cuales los colores primarios que corresponden aproximadamente al rojo, verde y azul son procesados en información perceptualmente significativa. De esta manera, el procesamiento, la transmisión y almacenamiento posteriores de imagen o vídeo pueden introducir errores en formas perceptualmente significativas. A partir de la señal del modelo Y'CbCr se separa una señal de luminancia que se puede almacenar con alta resolución o transmitida con un alto ancho de banda, y dos componentes de crominancia que pueden ser de ancho de banda reducido, submuestreados, comprimidos, o tratados de otra manera por separado para mejorar la eficiencia del sistema."
   ]
  },
  {
   "cell_type": "markdown",
   "metadata": {},
   "source": [
    "Extraído de [Wikipedia](https://es.wikipedia.org/wiki/YCbCr)"
   ]
  },
  {
   "cell_type": "markdown",
   "metadata": {},
   "source": [
    "### HSV\n",
    "\n",
    "El modelo HSV (del inglés Hue, Saturation, Value – Matiz, Saturación, Valor), también llamado HSB (Hue, Saturation, Brightness – Matiz, Saturación, Brillo), define un modelo de color en términos de sus componentes."
   ]
  },
  {
   "cell_type": "markdown",
   "metadata": {},
   "source": [
    "![](../images/HSV.png)"
   ]
  },
  {
   "cell_type": "markdown",
   "metadata": {},
   "source": [
    "El modelo HSV fue creado en 1978 por Alvy Ray Smith. Se trata de una transformación no lineal del espacio de color RGB, y se puede usar en progresiones de color. Nótese que HSV es lo mismo que HSB pero no que HSL o HSI.\n",
    "\n",
    "Es común que deseemos elegir un color adecuado para alguna de nuestras aplicaciones, cuando es así resulta muy útil usar la ruleta de color HSV. En ella el matiz se representa por una región circular; una región triangular separada, puede ser usada para representar la saturación y el valor del color. Normalmente, el eje horizontal del triángulo denota la saturación, mientras que el eje vertical corresponde al valor del color. De este modo, un color puede ser elegido al tomar primero el matiz de una región circular, y después seleccionar la saturación y el valor del color deseados de la región triangular."
   ]
  },
  {
   "cell_type": "markdown",
   "metadata": {},
   "source": [
    "Extraído de [Wikipedia](https://es.wikipedia.org/wiki/Modelo_de_color_HSV)"
   ]
  },
  {
   "cell_type": "markdown",
   "metadata": {},
   "source": [
    "### HSL\n",
    "\n",
    "El modelo HSL (del inglés Hue, Saturation, Lightness – Matiz, Saturación, Luminosidad), también llamado HSI (del inglés Hue, Saturation, Intensity – Matiz, Saturación, Intensidad), define un modelo de color en términos de sus componentes constituyentes. El modelo HSL se representa gráficamente como un cono doble o un doble hexágono. Los dos vértices en el modelo HSL se corresponden con el blanco y el negro, el ángulo se corresponde con el matiz, la distancia al eje con la saturación y la distancia al eje blanco-negro se corresponde a la luminancia. Como los modelos HSI y el HSV, es una deformación no lineal del espacio de color RGB. Nótese que HSL es lo mismo que HSI pero no que HSV o HSB."
   ]
  },
  {
   "cell_type": "markdown",
   "metadata": {},
   "source": [
    "![](../images/HSL.png)"
   ]
  },
  {
   "cell_type": "markdown",
   "metadata": {},
   "source": [
    "Extraído de [Wikipedia](https://es.wikipedia.org/wiki/Modelo_de_color_HSL)"
   ]
  }
 ],
 "metadata": {
  "kernelspec": {
   "display_name": "Python 3",
   "language": "python",
   "name": "python3"
  },
  "language_info": {
   "codemirror_mode": {
    "name": "ipython",
    "version": 3
   },
   "file_extension": ".py",
   "mimetype": "text/x-python",
   "name": "python",
   "nbconvert_exporter": "python",
   "pygments_lexer": "ipython3",
   "version": "3.7.2"
  }
 },
 "nbformat": 4,
 "nbformat_minor": 4
}
